{
 "cells": [
  {
   "cell_type": "code",
   "execution_count": 1,
   "metadata": {},
   "outputs": [
    {
     "name": "stderr",
     "output_type": "stream",
     "text": [
      "Using TensorFlow backend.\n"
     ]
    }
   ],
   "source": [
    "from keras.models import load_model\n",
    "import glob\n",
    "import numpy as np\n",
    "from collections import Counter\n",
    "import pandas as pd"
   ]
  },
  {
   "cell_type": "code",
   "execution_count": 2,
   "metadata": {},
   "outputs": [
    {
     "name": "stdout",
     "output_type": "stream",
     "text": [
      "WARNING:tensorflow:From /home/ec2-user/anaconda3/lib/python3.7/site-packages/tensorflow/python/framework/op_def_library.py:263: colocate_with (from tensorflow.python.framework.ops) is deprecated and will be removed in a future version.\n",
      "Instructions for updating:\n",
      "Colocations handled automatically by placer.\n",
      "WARNING:tensorflow:From /home/ec2-user/anaconda3/lib/python3.7/site-packages/keras/backend/tensorflow_backend.py:3445: calling dropout (from tensorflow.python.ops.nn_ops) with keep_prob is deprecated and will be removed in a future version.\n",
      "Instructions for updating:\n",
      "Please use `rate` instead of `keep_prob`. Rate should be set to `rate = 1 - keep_prob`.\n",
      "WARNING:tensorflow:From /home/ec2-user/anaconda3/lib/python3.7/site-packages/tensorflow/python/ops/math_ops.py:3066: to_int32 (from tensorflow.python.ops.math_ops) is deprecated and will be removed in a future version.\n",
      "Instructions for updating:\n",
      "Use tf.cast instead.\n"
     ]
    }
   ],
   "source": [
    "new_model = load_model('Fri_May_17_22-52-09_2019_2dcnn_spec_.h5')"
   ]
  },
  {
   "cell_type": "code",
   "execution_count": 3,
   "metadata": {},
   "outputs": [],
   "source": [
    "def get_subarrays(row):\n",
    "    return [row[pos:pos + 3,] for pos in range(0, len(row),3)]"
   ]
  },
  {
   "cell_type": "code",
   "execution_count": 4,
   "metadata": {},
   "outputs": [],
   "source": [
    "labels = {'Saxophone': 0,\n",
    " 'Glockenspiel': 1,\n",
    " 'Cello': 2,\n",
    " 'Knock': 3,\n",
    " 'Gunshot_or_gunfire': 4,\n",
    " 'Hi-hat': 5,\n",
    " 'Laughter': 6,\n",
    " 'Flute': 7,\n",
    " 'Telephone': 8,\n",
    " 'Bark': 9,\n",
    " 'Scissors': 10,\n",
    " 'Gong': 11,\n",
    " 'Microwave_oven': 12,\n",
    " 'Shatter': 13,\n",
    " 'Harmonica': 14,\n",
    " 'Bass_drum': 15,\n",
    " 'Oboe': 16,\n",
    " 'Bus': 17,\n",
    " 'Tambourine': 18,\n",
    " 'Keys_jangling': 19,\n",
    " 'Electric_piano': 20,\n",
    " 'Clarinet': 21,\n",
    " 'Fireworks': 22,\n",
    " 'Meow': 23,\n",
    " 'Double_bass': 24,\n",
    " 'Cough': 25,\n",
    " 'Acoustic_guitar': 26,\n",
    " 'Violin_or_fiddle': 27,\n",
    " 'Snare_drum': 28,\n",
    " 'Squeak': 29,\n",
    " 'Finger_snapping': 30,\n",
    " 'Writing': 31,\n",
    " 'Trumpet': 32,\n",
    " 'Drawer_open_or_close': 33,\n",
    " 'Cowbell': 34,\n",
    " 'Tearing': 35,\n",
    " 'Fart': 36,\n",
    " 'Chime': 37,\n",
    " 'Burping_or_eructation': 38,\n",
    " 'Computer_keyboard': 39,\n",
    " 'Applause': 40}\n",
    "\n",
    "inverted_mapping = {v:k for k,v in labels.items()}"
   ]
  },
  {
   "cell_type": "code",
   "execution_count": 12,
   "metadata": {},
   "outputs": [],
   "source": [
    "def get_predicted_label(row):\n",
    "    try:\n",
    "        data = np.load(path + row + '.npy').T\n",
    "        data_slice = get_subarrays(data)\n",
    "        xs = []\n",
    "        for array_set in data_slice:\n",
    "            if array_set.shape == (3,128):  # The network take input of shape (3, 128, 1)\n",
    "                xs.append(array_set)\n",
    "        features = np.asarray(xs)\n",
    "        xs_reshape = features.reshape(features.shape[0], 3, 128, 1)\n",
    "        pred_labels = [inverted_mapping.get(x) for x in new_model.predict_classes(xs_reshape)] # going to return a prediction for each of the 33\n",
    "        label = Counter(pred_labels).most_common(1)[0][0]\n",
    "        return label\n",
    "    except Exception as e:\n",
    "        return \"none\""
   ]
  },
  {
   "cell_type": "markdown",
   "metadata": {},
   "source": [
    "# Get predictions for Test_Audios files"
   ]
  },
  {
   "cell_type": "code",
   "execution_count": 6,
   "metadata": {},
   "outputs": [
    {
     "name": "stdout",
     "output_type": "stream",
     "text": [
      "9394\n",
      "test_npy/8319139c.wav.npy\n"
     ]
    }
   ],
   "source": [
    "test_npys = glob.glob('test_npy/' +'*.npy')\n",
    "print(len(test_npys))\n",
    "print(test_npys[0])"
   ]
  },
  {
   "cell_type": "code",
   "execution_count": 7,
   "metadata": {},
   "outputs": [
    {
     "data": {
      "text/plain": [
       "9400"
      ]
     },
     "execution_count": 7,
     "metadata": {},
     "output_type": "execute_result"
    }
   ],
   "source": [
    "test_audios = glob.glob('audio_test/' +'*.wav')\n",
    "len(test_audios)"
   ]
  },
  {
   "cell_type": "code",
   "execution_count": 8,
   "metadata": {},
   "outputs": [
    {
     "name": "stdout",
     "output_type": "stream",
     "text": [
      "9400\n"
     ]
    },
    {
     "data": {
      "text/html": [
       "<div>\n",
       "<style scoped>\n",
       "    .dataframe tbody tr th:only-of-type {\n",
       "        vertical-align: middle;\n",
       "    }\n",
       "\n",
       "    .dataframe tbody tr th {\n",
       "        vertical-align: top;\n",
       "    }\n",
       "\n",
       "    .dataframe thead th {\n",
       "        text-align: right;\n",
       "    }\n",
       "</style>\n",
       "<table border=\"1\" class=\"dataframe\">\n",
       "  <thead>\n",
       "    <tr style=\"text-align: right;\">\n",
       "      <th></th>\n",
       "      <th>fname</th>\n",
       "    </tr>\n",
       "  </thead>\n",
       "  <tbody>\n",
       "    <tr>\n",
       "      <th>0</th>\n",
       "      <td>8319139c.wav</td>\n",
       "    </tr>\n",
       "    <tr>\n",
       "      <th>1</th>\n",
       "      <td>003995fa.wav</td>\n",
       "    </tr>\n",
       "    <tr>\n",
       "      <th>2</th>\n",
       "      <td>9c80c2dc.wav</td>\n",
       "    </tr>\n",
       "    <tr>\n",
       "      <th>3</th>\n",
       "      <td>93dbba2e.wav</td>\n",
       "    </tr>\n",
       "    <tr>\n",
       "      <th>4</th>\n",
       "      <td>45fbe67a.wav</td>\n",
       "    </tr>\n",
       "  </tbody>\n",
       "</table>\n",
       "</div>"
      ],
      "text/plain": [
       "          fname\n",
       "0  8319139c.wav\n",
       "1  003995fa.wav\n",
       "2  9c80c2dc.wav\n",
       "3  93dbba2e.wav\n",
       "4  45fbe67a.wav"
      ]
     },
     "execution_count": 8,
     "metadata": {},
     "output_type": "execute_result"
    }
   ],
   "source": [
    "file_names = [x.split(\"/\")[1] for x in test_audios]\n",
    "print(len(file_names))\n",
    "df = pd.DataFrame(file_names)\n",
    "df.rename(columns={0: \"fname\"},inplace=True)\n",
    "\n",
    "df.head()"
   ]
  },
  {
   "cell_type": "code",
   "execution_count": 13,
   "metadata": {},
   "outputs": [
    {
     "data": {
      "text/plain": [
       "(9400, 2)"
      ]
     },
     "execution_count": 13,
     "metadata": {},
     "output_type": "execute_result"
    }
   ],
   "source": [
    "path = 'test_npy/'\n",
    "df['label'] = df['fname'].map(get_predicted_label)\n",
    "df.shape"
   ]
  },
  {
   "cell_type": "code",
   "execution_count": 14,
   "metadata": {},
   "outputs": [
    {
     "data": {
      "text/html": [
       "<div>\n",
       "<style scoped>\n",
       "    .dataframe tbody tr th:only-of-type {\n",
       "        vertical-align: middle;\n",
       "    }\n",
       "\n",
       "    .dataframe tbody tr th {\n",
       "        vertical-align: top;\n",
       "    }\n",
       "\n",
       "    .dataframe thead th {\n",
       "        text-align: right;\n",
       "    }\n",
       "</style>\n",
       "<table border=\"1\" class=\"dataframe\">\n",
       "  <thead>\n",
       "    <tr style=\"text-align: right;\">\n",
       "      <th></th>\n",
       "      <th>fname</th>\n",
       "      <th>label</th>\n",
       "    </tr>\n",
       "  </thead>\n",
       "  <tbody>\n",
       "    <tr>\n",
       "      <th>0</th>\n",
       "      <td>8319139c.wav</td>\n",
       "      <td>Hi-hat</td>\n",
       "    </tr>\n",
       "    <tr>\n",
       "      <th>1</th>\n",
       "      <td>003995fa.wav</td>\n",
       "      <td>Squeak</td>\n",
       "    </tr>\n",
       "    <tr>\n",
       "      <th>2</th>\n",
       "      <td>9c80c2dc.wav</td>\n",
       "      <td>Bus</td>\n",
       "    </tr>\n",
       "    <tr>\n",
       "      <th>3</th>\n",
       "      <td>93dbba2e.wav</td>\n",
       "      <td>Cello</td>\n",
       "    </tr>\n",
       "    <tr>\n",
       "      <th>4</th>\n",
       "      <td>45fbe67a.wav</td>\n",
       "      <td>Fireworks</td>\n",
       "    </tr>\n",
       "  </tbody>\n",
       "</table>\n",
       "</div>"
      ],
      "text/plain": [
       "          fname      label\n",
       "0  8319139c.wav     Hi-hat\n",
       "1  003995fa.wav     Squeak\n",
       "2  9c80c2dc.wav        Bus\n",
       "3  93dbba2e.wav      Cello\n",
       "4  45fbe67a.wav  Fireworks"
      ]
     },
     "execution_count": 14,
     "metadata": {},
     "output_type": "execute_result"
    }
   ],
   "source": [
    "df.head()"
   ]
  },
  {
   "cell_type": "markdown",
   "metadata": {},
   "source": [
    "# Get predictions for Train_Audio files"
   ]
  },
  {
   "cell_type": "code",
   "execution_count": 15,
   "metadata": {},
   "outputs": [
    {
     "data": {
      "text/plain": [
       "(9473, 3)"
      ]
     },
     "execution_count": 15,
     "metadata": {},
     "output_type": "execute_result"
    }
   ],
   "source": [
    "train = pd.read_csv('train.csv')\n",
    "train.head()\n",
    "train.shape"
   ]
  },
  {
   "cell_type": "code",
   "execution_count": 16,
   "metadata": {},
   "outputs": [],
   "source": [
    "path = 'single_label_npy2/'\n",
    "train['pre_label'] = train['fname'].map(get_predicted_label)"
   ]
  },
  {
   "cell_type": "code",
   "execution_count": 32,
   "metadata": {
    "scrolled": true
   },
   "outputs": [
    {
     "data": {
      "text/html": [
       "<div>\n",
       "<style scoped>\n",
       "    .dataframe tbody tr th:only-of-type {\n",
       "        vertical-align: middle;\n",
       "    }\n",
       "\n",
       "    .dataframe tbody tr th {\n",
       "        vertical-align: top;\n",
       "    }\n",
       "\n",
       "    .dataframe thead th {\n",
       "        text-align: right;\n",
       "    }\n",
       "</style>\n",
       "<table border=\"1\" class=\"dataframe\">\n",
       "  <thead>\n",
       "    <tr style=\"text-align: right;\">\n",
       "      <th></th>\n",
       "      <th>fname</th>\n",
       "      <th>label</th>\n",
       "      <th>manually_verified</th>\n",
       "    </tr>\n",
       "    <tr>\n",
       "      <th>pre_label</th>\n",
       "      <th></th>\n",
       "      <th></th>\n",
       "      <th></th>\n",
       "    </tr>\n",
       "  </thead>\n",
       "  <tbody>\n",
       "    <tr>\n",
       "      <th>Acoustic_guitar</th>\n",
       "      <td>355</td>\n",
       "      <td>355</td>\n",
       "      <td>355</td>\n",
       "    </tr>\n",
       "    <tr>\n",
       "      <th>Applause</th>\n",
       "      <td>343</td>\n",
       "      <td>343</td>\n",
       "      <td>343</td>\n",
       "    </tr>\n",
       "    <tr>\n",
       "      <th>Bark</th>\n",
       "      <td>185</td>\n",
       "      <td>185</td>\n",
       "      <td>185</td>\n",
       "    </tr>\n",
       "    <tr>\n",
       "      <th>Bass_drum</th>\n",
       "      <td>162</td>\n",
       "      <td>162</td>\n",
       "      <td>162</td>\n",
       "    </tr>\n",
       "    <tr>\n",
       "      <th>Burping_or_eructation</th>\n",
       "      <td>147</td>\n",
       "      <td>147</td>\n",
       "      <td>147</td>\n",
       "    </tr>\n",
       "    <tr>\n",
       "      <th>Bus</th>\n",
       "      <td>388</td>\n",
       "      <td>388</td>\n",
       "      <td>388</td>\n",
       "    </tr>\n",
       "    <tr>\n",
       "      <th>Cello</th>\n",
       "      <td>242</td>\n",
       "      <td>242</td>\n",
       "      <td>242</td>\n",
       "    </tr>\n",
       "    <tr>\n",
       "      <th>Chime</th>\n",
       "      <td>105</td>\n",
       "      <td>105</td>\n",
       "      <td>105</td>\n",
       "    </tr>\n",
       "    <tr>\n",
       "      <th>Clarinet</th>\n",
       "      <td>268</td>\n",
       "      <td>268</td>\n",
       "      <td>268</td>\n",
       "    </tr>\n",
       "    <tr>\n",
       "      <th>Computer_keyboard</th>\n",
       "      <td>255</td>\n",
       "      <td>255</td>\n",
       "      <td>255</td>\n",
       "    </tr>\n",
       "    <tr>\n",
       "      <th>Cough</th>\n",
       "      <td>191</td>\n",
       "      <td>191</td>\n",
       "      <td>191</td>\n",
       "    </tr>\n",
       "    <tr>\n",
       "      <th>Cowbell</th>\n",
       "      <td>151</td>\n",
       "      <td>151</td>\n",
       "      <td>151</td>\n",
       "    </tr>\n",
       "    <tr>\n",
       "      <th>Double_bass</th>\n",
       "      <td>337</td>\n",
       "      <td>337</td>\n",
       "      <td>337</td>\n",
       "    </tr>\n",
       "    <tr>\n",
       "      <th>Drawer_open_or_close</th>\n",
       "      <td>254</td>\n",
       "      <td>254</td>\n",
       "      <td>254</td>\n",
       "    </tr>\n",
       "    <tr>\n",
       "      <th>Electric_piano</th>\n",
       "      <td>143</td>\n",
       "      <td>143</td>\n",
       "      <td>143</td>\n",
       "    </tr>\n",
       "    <tr>\n",
       "      <th>Fart</th>\n",
       "      <td>193</td>\n",
       "      <td>193</td>\n",
       "      <td>193</td>\n",
       "    </tr>\n",
       "    <tr>\n",
       "      <th>Finger_snapping</th>\n",
       "      <td>89</td>\n",
       "      <td>89</td>\n",
       "      <td>89</td>\n",
       "    </tr>\n",
       "    <tr>\n",
       "      <th>Fireworks</th>\n",
       "      <td>213</td>\n",
       "      <td>213</td>\n",
       "      <td>213</td>\n",
       "    </tr>\n",
       "    <tr>\n",
       "      <th>Flute</th>\n",
       "      <td>233</td>\n",
       "      <td>233</td>\n",
       "      <td>233</td>\n",
       "    </tr>\n",
       "    <tr>\n",
       "      <th>Glockenspiel</th>\n",
       "      <td>82</td>\n",
       "      <td>82</td>\n",
       "      <td>82</td>\n",
       "    </tr>\n",
       "    <tr>\n",
       "      <th>Gong</th>\n",
       "      <td>209</td>\n",
       "      <td>209</td>\n",
       "      <td>209</td>\n",
       "    </tr>\n",
       "    <tr>\n",
       "      <th>Gunshot_or_gunfire</th>\n",
       "      <td>682</td>\n",
       "      <td>682</td>\n",
       "      <td>682</td>\n",
       "    </tr>\n",
       "    <tr>\n",
       "      <th>Harmonica</th>\n",
       "      <td>163</td>\n",
       "      <td>163</td>\n",
       "      <td>163</td>\n",
       "    </tr>\n",
       "    <tr>\n",
       "      <th>Hi-hat</th>\n",
       "      <td>118</td>\n",
       "      <td>118</td>\n",
       "      <td>118</td>\n",
       "    </tr>\n",
       "    <tr>\n",
       "      <th>Keys_jangling</th>\n",
       "      <td>163</td>\n",
       "      <td>163</td>\n",
       "      <td>163</td>\n",
       "    </tr>\n",
       "    <tr>\n",
       "      <th>Knock</th>\n",
       "      <td>173</td>\n",
       "      <td>173</td>\n",
       "      <td>173</td>\n",
       "    </tr>\n",
       "    <tr>\n",
       "      <th>Laughter</th>\n",
       "      <td>411</td>\n",
       "      <td>411</td>\n",
       "      <td>411</td>\n",
       "    </tr>\n",
       "    <tr>\n",
       "      <th>Meow</th>\n",
       "      <td>149</td>\n",
       "      <td>149</td>\n",
       "      <td>149</td>\n",
       "    </tr>\n",
       "    <tr>\n",
       "      <th>Microwave_oven</th>\n",
       "      <td>72</td>\n",
       "      <td>72</td>\n",
       "      <td>72</td>\n",
       "    </tr>\n",
       "    <tr>\n",
       "      <th>Oboe</th>\n",
       "      <td>307</td>\n",
       "      <td>307</td>\n",
       "      <td>307</td>\n",
       "    </tr>\n",
       "    <tr>\n",
       "      <th>Saxophone</th>\n",
       "      <td>440</td>\n",
       "      <td>440</td>\n",
       "      <td>440</td>\n",
       "    </tr>\n",
       "    <tr>\n",
       "      <th>Scissors</th>\n",
       "      <td>205</td>\n",
       "      <td>205</td>\n",
       "      <td>205</td>\n",
       "    </tr>\n",
       "    <tr>\n",
       "      <th>Shatter</th>\n",
       "      <td>277</td>\n",
       "      <td>277</td>\n",
       "      <td>277</td>\n",
       "    </tr>\n",
       "    <tr>\n",
       "      <th>Snare_drum</th>\n",
       "      <td>149</td>\n",
       "      <td>149</td>\n",
       "      <td>149</td>\n",
       "    </tr>\n",
       "    <tr>\n",
       "      <th>Squeak</th>\n",
       "      <td>192</td>\n",
       "      <td>192</td>\n",
       "      <td>192</td>\n",
       "    </tr>\n",
       "    <tr>\n",
       "      <th>Tambourine</th>\n",
       "      <td>163</td>\n",
       "      <td>163</td>\n",
       "      <td>163</td>\n",
       "    </tr>\n",
       "    <tr>\n",
       "      <th>Tearing</th>\n",
       "      <td>296</td>\n",
       "      <td>296</td>\n",
       "      <td>296</td>\n",
       "    </tr>\n",
       "    <tr>\n",
       "      <th>Telephone</th>\n",
       "      <td>157</td>\n",
       "      <td>157</td>\n",
       "      <td>157</td>\n",
       "    </tr>\n",
       "    <tr>\n",
       "      <th>Trumpet</th>\n",
       "      <td>140</td>\n",
       "      <td>140</td>\n",
       "      <td>140</td>\n",
       "    </tr>\n",
       "    <tr>\n",
       "      <th>Violin_or_fiddle</th>\n",
       "      <td>363</td>\n",
       "      <td>363</td>\n",
       "      <td>363</td>\n",
       "    </tr>\n",
       "    <tr>\n",
       "      <th>Writing</th>\n",
       "      <td>299</td>\n",
       "      <td>299</td>\n",
       "      <td>299</td>\n",
       "    </tr>\n",
       "    <tr>\n",
       "      <th>none</th>\n",
       "      <td>9</td>\n",
       "      <td>9</td>\n",
       "      <td>9</td>\n",
       "    </tr>\n",
       "  </tbody>\n",
       "</table>\n",
       "</div>"
      ],
      "text/plain": [
       "                       fname  label  manually_verified\n",
       "pre_label                                             \n",
       "Acoustic_guitar          355    355                355\n",
       "Applause                 343    343                343\n",
       "Bark                     185    185                185\n",
       "Bass_drum                162    162                162\n",
       "Burping_or_eructation    147    147                147\n",
       "Bus                      388    388                388\n",
       "Cello                    242    242                242\n",
       "Chime                    105    105                105\n",
       "Clarinet                 268    268                268\n",
       "Computer_keyboard        255    255                255\n",
       "Cough                    191    191                191\n",
       "Cowbell                  151    151                151\n",
       "Double_bass              337    337                337\n",
       "Drawer_open_or_close     254    254                254\n",
       "Electric_piano           143    143                143\n",
       "Fart                     193    193                193\n",
       "Finger_snapping           89     89                 89\n",
       "Fireworks                213    213                213\n",
       "Flute                    233    233                233\n",
       "Glockenspiel              82     82                 82\n",
       "Gong                     209    209                209\n",
       "Gunshot_or_gunfire       682    682                682\n",
       "Harmonica                163    163                163\n",
       "Hi-hat                   118    118                118\n",
       "Keys_jangling            163    163                163\n",
       "Knock                    173    173                173\n",
       "Laughter                 411    411                411\n",
       "Meow                     149    149                149\n",
       "Microwave_oven            72     72                 72\n",
       "Oboe                     307    307                307\n",
       "Saxophone                440    440                440\n",
       "Scissors                 205    205                205\n",
       "Shatter                  277    277                277\n",
       "Snare_drum               149    149                149\n",
       "Squeak                   192    192                192\n",
       "Tambourine               163    163                163\n",
       "Tearing                  296    296                296\n",
       "Telephone                157    157                157\n",
       "Trumpet                  140    140                140\n",
       "Violin_or_fiddle         363    363                363\n",
       "Writing                  299    299                299\n",
       "none                       9      9                  9"
      ]
     },
     "execution_count": 32,
     "metadata": {},
     "output_type": "execute_result"
    }
   ],
   "source": [
    "train.groupby('pre_label').count()"
   ]
  },
  {
   "cell_type": "code",
   "execution_count": 37,
   "metadata": {},
   "outputs": [
    {
     "data": {
      "text/plain": [
       "(9464, 4)"
      ]
     },
     "execution_count": 37,
     "metadata": {},
     "output_type": "execute_result"
    }
   ],
   "source": [
    "train_clean = train[train.pre_label !=\"none\"]\n",
    "train_clean.shape"
   ]
  },
  {
   "cell_type": "code",
   "execution_count": 38,
   "metadata": {},
   "outputs": [
    {
     "data": {
      "text/plain": [
       "array([[229,   0,   1, ...,   0,   6,   2],\n",
       "       [  0, 247,   5, ...,   0,   1,   0],\n",
       "       [  0,   3, 138, ...,   0,   0,   5],\n",
       "       ...,\n",
       "       [  8,   2,   6, ..., 118,  15,   7],\n",
       "       [  4,   0,   0, ...,   1, 274,   1],\n",
       "       [  0,   5,   1, ...,   0,   0, 151]])"
      ]
     },
     "execution_count": 38,
     "metadata": {},
     "output_type": "execute_result"
    }
   ],
   "source": [
    "from sklearn.metrics import accuracy_score, confusion_matrix, f1_score\n",
    "from sklearn.metrics import classification_report\n",
    "y_true = train_clean.label.to_list()\n",
    "y_pred = train_clean.pre_label.to_list()\n",
    "confusion_matrix = confusion_matrix(y_true, y_pred)\n",
    "confusion_matrix"
   ]
  },
  {
   "cell_type": "code",
   "execution_count": 48,
   "metadata": {},
   "outputs": [
    {
     "name": "stdout",
     "output_type": "stream",
     "text": [
      "                       precision    recall  f1-score   support\n",
      "\n",
      "      Acoustic_guitar       0.65      0.76      0.70       300\n",
      "             Applause       0.72      0.82      0.77       300\n",
      "                 Bark       0.75      0.58      0.65       238\n",
      "            Bass_drum       0.91      0.49      0.64       300\n",
      "Burping_or_eructation       0.99      0.69      0.81       210\n",
      "                  Bus       0.25      0.88      0.39       109\n",
      "                Cello       0.77      0.62      0.69       300\n",
      "                Chime       0.67      0.61      0.64       115\n",
      "             Clarinet       0.88      0.78      0.83       300\n",
      "    Computer_keyboard       0.33      0.70      0.44       119\n",
      "                Cough       0.72      0.57      0.64       243\n",
      "              Cowbell       0.99      0.79      0.88       190\n",
      "          Double_bass       0.69      0.77      0.73       300\n",
      " Drawer_open_or_close       0.37      0.59      0.45       158\n",
      "       Electric_piano       0.62      0.59      0.61       150\n",
      "                 Fart       0.81      0.52      0.64       300\n",
      "      Finger_snapping       0.94      0.72      0.82       117\n",
      "            Fireworks       0.69      0.49      0.57       300\n",
      "                Flute       0.76      0.59      0.67       300\n",
      "         Glockenspiel       0.91      0.80      0.85        94\n",
      "                 Gong       0.85      0.61      0.71       290\n",
      "   Gunshot_or_gunfire       0.20      0.92      0.33       147\n",
      "            Harmonica       0.87      0.86      0.87       165\n",
      "               Hi-hat       0.98      0.39      0.56       300\n",
      "        Keys_jangling       0.58      0.68      0.63       139\n",
      "                Knock       0.88      0.54      0.67       279\n",
      "             Laughter       0.51      0.69      0.59       300\n",
      "                 Meow       0.56      0.54      0.55       155\n",
      "       Microwave_oven       0.89      0.44      0.59       146\n",
      "                 Oboe       0.91      0.93      0.92       299\n",
      "            Saxophone       0.64      0.93      0.76       300\n",
      "             Scissors       0.27      0.59      0.37        95\n",
      "              Shatter       0.66      0.61      0.63       300\n",
      "           Snare_drum       0.95      0.47      0.63       300\n",
      "               Squeak       0.49      0.31      0.38       300\n",
      "           Tambourine       1.00      0.74      0.85       220\n",
      "              Tearing       0.54      0.54      0.54       299\n",
      "            Telephone       0.68      0.88      0.77       120\n",
      "              Trumpet       0.84      0.39      0.54       300\n",
      "     Violin_or_fiddle       0.75      0.91      0.83       300\n",
      "              Writing       0.51      0.57      0.53       267\n",
      "\n",
      "            micro avg       0.64      0.64      0.64      9464\n",
      "            macro avg       0.71      0.66      0.65      9464\n",
      "         weighted avg       0.73      0.64      0.66      9464\n",
      "\n"
     ]
    }
   ],
   "source": [
    "print(classification_report(y_true, y_pred))"
   ]
  },
  {
   "cell_type": "code",
   "execution_count": null,
   "metadata": {},
   "outputs": [],
   "source": []
  }
 ],
 "metadata": {
  "kernelspec": {
   "display_name": "Python 3",
   "language": "python",
   "name": "python3"
  },
  "language_info": {
   "codemirror_mode": {
    "name": "ipython",
    "version": 3
   },
   "file_extension": ".py",
   "mimetype": "text/x-python",
   "name": "python",
   "nbconvert_exporter": "python",
   "pygments_lexer": "ipython3",
   "version": "3.7.0"
  }
 },
 "nbformat": 4,
 "nbformat_minor": 2
}
