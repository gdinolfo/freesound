{
 "cells": [
  {
   "cell_type": "code",
   "execution_count": 1,
   "metadata": {},
   "outputs": [
    {
     "name": "stderr",
     "output_type": "stream",
     "text": [
      "Using TensorFlow backend.\n"
     ]
    }
   ],
   "source": [
    "import os\n",
    "import glob\n",
    "import numpy as np\n",
    "from tqdm import tqdm\n",
    "import librosa\n",
    "import pandas as pd\n",
    "from sklearn.utils import shuffle\n",
    "from keras.utils import np_utils\n",
    "import time\n",
    "\n",
    "from keras.models import Model\n",
    "from keras.layers import Conv1D, MaxPooling1D, Input, Conv2D, MaxPooling2D\n",
    "from keras.models import Sequential\n",
    "from keras.layers import Dense, Bidirectional, LSTM, BatchNormalization, Dropout, Flatten, Embedding\n",
    "from keras.optimizers import SGD\n",
    "from sklearn.metrics import confusion_matrix\n",
    "\n",
    "def save_model(model_type):\n",
    "    return \"_\".join(time.ctime().split(\" \")).replace(\":\", \"-\") +\"_{}_.h5\".format(model_type)"
   ]
  },
  {
   "cell_type": "code",
   "execution_count": 2,
   "metadata": {},
   "outputs": [
    {
     "name": "stdout",
     "output_type": "stream",
     "text": [
      "9473\n"
     ]
    },
    {
     "data": {
      "text/plain": [
       "['audio_train/e6949d46.wav',\n",
       " 'audio_train/e2e24e19.wav',\n",
       " 'audio_train/121749b9.wav',\n",
       " 'audio_train/03e88255.wav',\n",
       " 'audio_train/497e8e00.wav',\n",
       " 'audio_train/b4ef7f66.wav',\n",
       " 'audio_train/113c5e2f.wav',\n",
       " 'audio_train/973bef4c.wav',\n",
       " 'audio_train/384f43cf.wav',\n",
       " 'audio_train/673defaf.wav']"
      ]
     },
     "execution_count": 2,
     "metadata": {},
     "output_type": "execute_result"
    }
   ],
   "source": [
    "files = 'audio_train/'\n",
    "all_files = glob.glob('audio_train/*.wav')\n",
    "print(len(all_files))\n",
    "all_files[:10]\n",
    "# np.random.shuffle(new_files)"
   ]
  },
  {
   "cell_type": "code",
   "execution_count": 3,
   "metadata": {},
   "outputs": [
    {
     "name": "stdout",
     "output_type": "stream",
     "text": [
      "verified shape:(3710, 3)\n"
     ]
    },
    {
     "data": {
      "text/html": [
       "<div>\n",
       "<style scoped>\n",
       "    .dataframe tbody tr th:only-of-type {\n",
       "        vertical-align: middle;\n",
       "    }\n",
       "\n",
       "    .dataframe tbody tr th {\n",
       "        vertical-align: top;\n",
       "    }\n",
       "\n",
       "    .dataframe thead th {\n",
       "        text-align: right;\n",
       "    }\n",
       "</style>\n",
       "<table border=\"1\" class=\"dataframe\">\n",
       "  <thead>\n",
       "    <tr style=\"text-align: right;\">\n",
       "      <th></th>\n",
       "      <th>fname</th>\n",
       "      <th>label</th>\n",
       "      <th>manually_verified</th>\n",
       "    </tr>\n",
       "  </thead>\n",
       "  <tbody>\n",
       "    <tr>\n",
       "      <th>1</th>\n",
       "      <td>001ca53d.wav</td>\n",
       "      <td>Saxophone</td>\n",
       "      <td>1</td>\n",
       "    </tr>\n",
       "    <tr>\n",
       "      <th>3</th>\n",
       "      <td>0033e230.wav</td>\n",
       "      <td>Glockenspiel</td>\n",
       "      <td>1</td>\n",
       "    </tr>\n",
       "    <tr>\n",
       "      <th>4</th>\n",
       "      <td>00353774.wav</td>\n",
       "      <td>Cello</td>\n",
       "      <td>1</td>\n",
       "    </tr>\n",
       "    <tr>\n",
       "      <th>6</th>\n",
       "      <td>003da8e5.wav</td>\n",
       "      <td>Knock</td>\n",
       "      <td>1</td>\n",
       "    </tr>\n",
       "    <tr>\n",
       "      <th>7</th>\n",
       "      <td>0048fd00.wav</td>\n",
       "      <td>Gunshot_or_gunfire</td>\n",
       "      <td>1</td>\n",
       "    </tr>\n",
       "  </tbody>\n",
       "</table>\n",
       "</div>"
      ],
      "text/plain": [
       "          fname               label  manually_verified\n",
       "1  001ca53d.wav           Saxophone                  1\n",
       "3  0033e230.wav        Glockenspiel                  1\n",
       "4  00353774.wav               Cello                  1\n",
       "6  003da8e5.wav               Knock                  1\n",
       "7  0048fd00.wav  Gunshot_or_gunfire                  1"
      ]
     },
     "execution_count": 3,
     "metadata": {},
     "output_type": "execute_result"
    }
   ],
   "source": [
    "df_train_info = pd.read_csv(\"train.csv\")\n",
    "verified = df_train_info [df_train_info.manually_verified == 1]\n",
    "print(f'verified shape:{verified.shape}')\n",
    "verified.head()"
   ]
  },
  {
   "cell_type": "code",
   "execution_count": 4,
   "metadata": {},
   "outputs": [
    {
     "name": "stdout",
     "output_type": "stream",
     "text": [
      "3710\n"
     ]
    },
    {
     "data": {
      "text/plain": [
       "'0033e230.wav'"
      ]
     },
     "execution_count": 4,
     "metadata": {},
     "output_type": "execute_result"
    }
   ],
   "source": [
    "files_to_load = verified.fname.to_list()\n",
    "print(len(files_to_load))\n",
    "files_to_load[1]"
   ]
  },
  {
   "cell_type": "code",
   "execution_count": 5,
   "metadata": {},
   "outputs": [
    {
     "name": "stderr",
     "output_type": "stream",
     "text": [
      "100%|██████████| 3709/3709 [00:03<00:00, 1129.02it/s]\n"
     ]
    }
   ],
   "source": [
    "mydict = dict(zip(verified.fname, verified.label))\n",
    "npy_files = glob.glob('single_label_npy2/*.npy')\n",
    "# assert(len(npy_files) == 3709)\n",
    "\n",
    "cleanup = []\n",
    "for f in tqdm(npy_files):\n",
    "    data = np.load(f)\n",
    "    # Parse out the sub items here\n",
    "    songid = f.split(\"/\")[-1].split(\".\")[0]\n",
    "    genre = mydict.get(songid+'.wav')\n",
    "    cleanup.append({\n",
    "        'data': data.T, \n",
    "        'genre': genre,\n",
    "        'songid': songid,\n",
    "        'unique_song': songid + \",\" + genre\n",
    "    })\n",
    "\n",
    "cleanup = pd.DataFrame.from_records(cleanup)\n",
    "cleanup['shape'] = cleanup['data'].map(lambda x: x.shape)"
   ]
  },
  {
   "cell_type": "code",
   "execution_count": 6,
   "metadata": {},
   "outputs": [
    {
     "name": "stdout",
     "output_type": "stream",
     "text": [
      "(3709, 5)\n"
     ]
    },
    {
     "data": {
      "text/html": [
       "<div>\n",
       "<style scoped>\n",
       "    .dataframe tbody tr th:only-of-type {\n",
       "        vertical-align: middle;\n",
       "    }\n",
       "\n",
       "    .dataframe tbody tr th {\n",
       "        vertical-align: top;\n",
       "    }\n",
       "\n",
       "    .dataframe thead th {\n",
       "        text-align: right;\n",
       "    }\n",
       "</style>\n",
       "<table border=\"1\" class=\"dataframe\">\n",
       "  <thead>\n",
       "    <tr style=\"text-align: right;\">\n",
       "      <th></th>\n",
       "      <th>data</th>\n",
       "      <th>genre</th>\n",
       "      <th>songid</th>\n",
       "      <th>unique_song</th>\n",
       "      <th>shape</th>\n",
       "    </tr>\n",
       "  </thead>\n",
       "  <tbody>\n",
       "    <tr>\n",
       "      <th>0</th>\n",
       "      <td>[[0.00033258431907888216, 0.000255535323233157...</td>\n",
       "      <td>Saxophone</td>\n",
       "      <td>001ca53d</td>\n",
       "      <td>001ca53d,Saxophone</td>\n",
       "      <td>(432, 128)</td>\n",
       "    </tr>\n",
       "    <tr>\n",
       "      <th>1</th>\n",
       "      <td>[[0.00013988338396967164, 2.3834661453106825e-...</td>\n",
       "      <td>Glockenspiel</td>\n",
       "      <td>0033e230</td>\n",
       "      <td>0033e230,Glockenspiel</td>\n",
       "      <td>(164, 128)</td>\n",
       "    </tr>\n",
       "    <tr>\n",
       "      <th>2</th>\n",
       "      <td>[[0.10736758412714446, 0.05325495966526957, 0....</td>\n",
       "      <td>Cello</td>\n",
       "      <td>00353774</td>\n",
       "      <td>00353774,Cello</td>\n",
       "      <td>(195, 128)</td>\n",
       "    </tr>\n",
       "    <tr>\n",
       "      <th>3</th>\n",
       "      <td>[[6.98744115673468e-05, 4.795149790012115e-05,...</td>\n",
       "      <td>Knock</td>\n",
       "      <td>003da8e5</td>\n",
       "      <td>003da8e5,Knock</td>\n",
       "      <td>(28, 128)</td>\n",
       "    </tr>\n",
       "    <tr>\n",
       "      <th>4</th>\n",
       "      <td>[[0.0013208101030349694, 0.0005771960559312855...</td>\n",
       "      <td>Gunshot_or_gunfire</td>\n",
       "      <td>0048fd00</td>\n",
       "      <td>0048fd00,Gunshot_or_gunfire</td>\n",
       "      <td>(45, 128)</td>\n",
       "    </tr>\n",
       "  </tbody>\n",
       "</table>\n",
       "</div>"
      ],
      "text/plain": [
       "                                                data               genre  \\\n",
       "0  [[0.00033258431907888216, 0.000255535323233157...           Saxophone   \n",
       "1  [[0.00013988338396967164, 2.3834661453106825e-...        Glockenspiel   \n",
       "2  [[0.10736758412714446, 0.05325495966526957, 0....               Cello   \n",
       "3  [[6.98744115673468e-05, 4.795149790012115e-05,...               Knock   \n",
       "4  [[0.0013208101030349694, 0.0005771960559312855...  Gunshot_or_gunfire   \n",
       "\n",
       "     songid                  unique_song       shape  \n",
       "0  001ca53d           001ca53d,Saxophone  (432, 128)  \n",
       "1  0033e230        0033e230,Glockenspiel  (164, 128)  \n",
       "2  00353774               00353774,Cello  (195, 128)  \n",
       "3  003da8e5               003da8e5,Knock   (28, 128)  \n",
       "4  0048fd00  0048fd00,Gunshot_or_gunfire   (45, 128)  "
      ]
     },
     "execution_count": 6,
     "metadata": {},
     "output_type": "execute_result"
    }
   ],
   "source": [
    "print(cleanup.shape)\n",
    "cleanup.head()"
   ]
  },
  {
   "cell_type": "code",
   "execution_count": 7,
   "metadata": {},
   "outputs": [],
   "source": [
    "def get_subarrays(row):\n",
    "    return [row[pos:pos + 3,] for pos in range(0, len(row),3)]\n",
    "\n",
    "cleanup['batches'] = cleanup['data'].map(get_subarrays)"
   ]
  },
  {
   "cell_type": "code",
   "execution_count": 8,
   "metadata": {
    "scrolled": true
   },
   "outputs": [
    {
     "name": "stdout",
     "output_type": "stream",
     "text": [
      "number of genres:41\n"
     ]
    },
    {
     "data": {
      "text/plain": [
       "{'Saxophone': 0,\n",
       " 'Glockenspiel': 1,\n",
       " 'Cello': 2,\n",
       " 'Knock': 3,\n",
       " 'Gunshot_or_gunfire': 4,\n",
       " 'Hi-hat': 5,\n",
       " 'Laughter': 6,\n",
       " 'Flute': 7,\n",
       " 'Telephone': 8,\n",
       " 'Bark': 9,\n",
       " 'Scissors': 10,\n",
       " 'Gong': 11,\n",
       " 'Microwave_oven': 12,\n",
       " 'Shatter': 13,\n",
       " 'Harmonica': 14,\n",
       " 'Bass_drum': 15,\n",
       " 'Oboe': 16,\n",
       " 'Bus': 17,\n",
       " 'Tambourine': 18,\n",
       " 'Keys_jangling': 19,\n",
       " 'Electric_piano': 20,\n",
       " 'Clarinet': 21,\n",
       " 'Fireworks': 22,\n",
       " 'Meow': 23,\n",
       " 'Double_bass': 24,\n",
       " 'Cough': 25,\n",
       " 'Acoustic_guitar': 26,\n",
       " 'Violin_or_fiddle': 27,\n",
       " 'Snare_drum': 28,\n",
       " 'Squeak': 29,\n",
       " 'Finger_snapping': 30,\n",
       " 'Writing': 31,\n",
       " 'Trumpet': 32,\n",
       " 'Drawer_open_or_close': 33,\n",
       " 'Cowbell': 34,\n",
       " 'Tearing': 35,\n",
       " 'Fart': 36,\n",
       " 'Chime': 37,\n",
       " 'Burping_or_eructation': 38,\n",
       " 'Computer_keyboard': 39,\n",
       " 'Applause': 40}"
      ]
     },
     "execution_count": 8,
     "metadata": {},
     "output_type": "execute_result"
    }
   ],
   "source": [
    "genres = {x:idx for idx, x in enumerate(cleanup['genre'].unique())}\n",
    "print(f'number of genres:{len(genres)}')\n",
    "genres"
   ]
  },
  {
   "cell_type": "code",
   "execution_count": 9,
   "metadata": {},
   "outputs": [
    {
     "name": "stdout",
     "output_type": "stream",
     "text": [
      "(2970, 6)\n",
      "(739, 6)\n"
     ]
    }
   ],
   "source": [
    "train_df = cleanup.groupby('genre', group_keys=False).apply(lambda x: x.sample(frac=0.8, random_state=1))\n",
    "valid_df = cleanup[~cleanup['unique_song'].isin(train_df['unique_song'].tolist())]\n",
    "print(train_df.shape)\n",
    "print(valid_df.shape)"
   ]
  },
  {
   "cell_type": "code",
   "execution_count": 10,
   "metadata": {},
   "outputs": [
    {
     "name": "stdout",
     "output_type": "stream",
     "text": [
      "(191550, 3, 128) (191550, 41) (45339, 3, 128) (45339, 41)\n",
      "[17718  1796  7221  1725  6835  1891  4894 10077  7979  3425  4094  3964\n",
      "  2426  1798  5546   630  3165 10722  1335  2671  8985  9029  3482  2188\n",
      "  2511  1868  7599 12882  2390  2504   845  5230  5705  2390   603  2018\n",
      "  1556  6278  1141  6876  5558]\n",
      "[5267  390 2378  457 1148  610 1547 2689 2208  444 1016  900  459  407\n",
      " 1315  111 1073 2569  199  507 2133 1997  852  505  903  355 1230 2522\n",
      "  445  314  168  639 1070  474  307  685  369 1734  355 1310 1278]\n"
     ]
    }
   ],
   "source": [
    "def get_features_labels(df):\n",
    "    xs = []\n",
    "    ys = []\n",
    "\n",
    "    for index, row in df.iterrows():\n",
    "        batched_arrs = row['batches']\n",
    "        genre_id = genres[row\n",
    "                          ['genre']]\n",
    "\n",
    "        for array_set in batched_arrs:\n",
    "            if array_set.shape == (3,128):\n",
    "                xs.append(array_set)\n",
    "                ys.append(genre_id)\n",
    "\n",
    "    features = np.asarray(xs)\n",
    "    labels = np.asarray(ys)\n",
    "    \n",
    "    assert(features.shape[0] == labels.shape[0])\n",
    "    return features, np_utils.to_categorical(labels)\n",
    "\n",
    "X_train, y_train = get_features_labels(train_df)\n",
    "X_valid, y_valid = get_features_labels(valid_df)\n",
    "\n",
    "X_train, y_train = shuffle(X_train, y_train,  random_state=42)\n",
    "X_valid, y_valid = shuffle(X_valid, y_valid,  random_state=42)\n",
    "\n",
    "print(X_train.shape,\n",
    "y_train.shape,\n",
    "X_valid.shape,\n",
    "y_valid.shape)\n",
    "\n",
    "print(np.bincount([np.argmax(x) for x in y_train]))\n",
    "print(np.bincount([np.argmax(x) for x in y_valid]))"
   ]
  },
  {
   "cell_type": "code",
   "execution_count": 11,
   "metadata": {},
   "outputs": [],
   "source": [
    "from keras.callbacks import EarlyStopping "
   ]
  },
  {
   "cell_type": "code",
   "execution_count": 12,
   "metadata": {},
   "outputs": [
    {
     "name": "stdout",
     "output_type": "stream",
     "text": [
      "(191550, 3, 128, 1)\n",
      "WARNING:tensorflow:From /home/ec2-user/anaconda3/lib/python3.7/site-packages/tensorflow/python/framework/op_def_library.py:263: colocate_with (from tensorflow.python.framework.ops) is deprecated and will be removed in a future version.\n",
      "Instructions for updating:\n",
      "Colocations handled automatically by placer.\n",
      "WARNING:tensorflow:From /home/ec2-user/anaconda3/lib/python3.7/site-packages/keras/backend/tensorflow_backend.py:3445: calling dropout (from tensorflow.python.ops.nn_ops) with keep_prob is deprecated and will be removed in a future version.\n",
      "Instructions for updating:\n",
      "Please use `rate` instead of `keep_prob`. Rate should be set to `rate = 1 - keep_prob`.\n",
      "_________________________________________________________________\n",
      "Layer (type)                 Output Shape              Param #   \n",
      "=================================================================\n",
      "conv2d_1 (Conv2D)            (None, 3, 128, 16)        160       \n",
      "_________________________________________________________________\n",
      "conv2d_2 (Conv2D)            (None, 3, 128, 32)        4640      \n",
      "_________________________________________________________________\n",
      "conv2d_3 (Conv2D)            (None, 3, 128, 54)        15606     \n",
      "_________________________________________________________________\n",
      "conv2d_4 (Conv2D)            (None, 3, 128, 128)       62336     \n",
      "_________________________________________________________________\n",
      "max_pooling2d_1 (MaxPooling2 (None, 1, 64, 128)        0         \n",
      "_________________________________________________________________\n",
      "dropout_1 (Dropout)          (None, 1, 64, 128)        0         \n",
      "_________________________________________________________________\n",
      "flatten_1 (Flatten)          (None, 8192)              0         \n",
      "_________________________________________________________________\n",
      "dense_1 (Dense)              (None, 128)               1048704   \n",
      "_________________________________________________________________\n",
      "dense_2 (Dense)              (None, 64)                8256      \n",
      "_________________________________________________________________\n",
      "dense_3 (Dense)              (None, 41)                2665      \n",
      "=================================================================\n",
      "Total params: 1,142,367\n",
      "Trainable params: 1,142,367\n",
      "Non-trainable params: 0\n",
      "_________________________________________________________________\n"
     ]
    }
   ],
   "source": [
    "xt = X_train.reshape(X_train.shape[0], 3, 128, 1)\n",
    "xv = X_valid.reshape(X_valid.shape[0], 3, 128, 1)\n",
    "\n",
    "print(xt.shape)\n",
    "\n",
    "model = Sequential()\n",
    "model.add(Conv2D(16, (3, 3), activation='relu', padding='same',input_shape=(3, 128, 1)))\n",
    "\n",
    "\n",
    "model.add(Conv2D(32, (3, 3), activation='relu', padding='same',input_shape=(3, 128, 1)))\n",
    "model.add(Conv2D(54, (3, 3), activation='relu', padding='same',input_shape=(3, 128, 1)))\n",
    "model.add(Conv2D(128, (3, 3), activation='relu', padding='same',input_shape=(3, 128, 1)))\n",
    "model.add(MaxPooling2D((2,2)))\n",
    "model.add(Dropout(0.5))\n",
    "\n",
    "model.add(Flatten())\n",
    "model.add(Dense(128, activation='relu'))\n",
    "model.add(Dense(64, activation='relu'))\n",
    "model.add(Dense(41, activation='softmax'))\n",
    "model.summary()"
   ]
  },
  {
   "cell_type": "code",
   "execution_count": 13,
   "metadata": {},
   "outputs": [
    {
     "name": "stdout",
     "output_type": "stream",
     "text": [
      "Train...\n",
      "WARNING:tensorflow:From /home/ec2-user/anaconda3/lib/python3.7/site-packages/tensorflow/python/ops/math_ops.py:3066: to_int32 (from tensorflow.python.ops.math_ops) is deprecated and will be removed in a future version.\n",
      "Instructions for updating:\n",
      "Use tf.cast instead.\n"
     ]
    },
    {
     "name": "stderr",
     "output_type": "stream",
     "text": [
      "/home/ec2-user/anaconda3/lib/python3.7/site-packages/ipykernel_launcher.py:9: UserWarning: The `nb_epoch` argument in `fit` has been renamed `epochs`.\n",
      "  if __name__ == '__main__':\n"
     ]
    },
    {
     "name": "stdout",
     "output_type": "stream",
     "text": [
      "Train on 191550 samples, validate on 45339 samples\n",
      "Epoch 1/15\n",
      "191550/191550 [==============================] - 476s 2ms/step - loss: 1.7064 - acc: 0.5280 - val_loss: 1.8074 - val_acc: 0.5451\n",
      "Epoch 2/15\n",
      "191550/191550 [==============================] - 472s 2ms/step - loss: 0.9708 - acc: 0.7202 - val_loss: 1.7059 - val_acc: 0.5927\n",
      "Epoch 3/15\n",
      "191550/191550 [==============================] - 473s 2ms/step - loss: 0.7639 - acc: 0.7791 - val_loss: 1.6802 - val_acc: 0.6029\n",
      "Epoch 4/15\n",
      "191550/191550 [==============================] - 474s 2ms/step - loss: 0.6548 - acc: 0.8105 - val_loss: 1.6575 - val_acc: 0.6304\n",
      "Epoch 5/15\n",
      "191550/191550 [==============================] - 474s 2ms/step - loss: 0.5775 - acc: 0.8317 - val_loss: 1.7579 - val_acc: 0.6335\n",
      "Epoch 6/15\n",
      "191550/191550 [==============================] - 472s 2ms/step - loss: 0.5260 - acc: 0.8469 - val_loss: 1.7721 - val_acc: 0.6332\n",
      "Epoch 7/15\n",
      "191550/191550 [==============================] - 688s 4ms/step - loss: 0.4845 - acc: 0.8591 - val_loss: 1.7863 - val_acc: 0.6447\n",
      "Epoch 8/15\n",
      "191550/191550 [==============================] - 1885s 10ms/step - loss: 0.4506 - acc: 0.8676 - val_loss: 1.8079 - val_acc: 0.6477\n",
      "Epoch 9/15\n",
      "191550/191550 [==============================] - 1827s 10ms/step - loss: 0.4269 - acc: 0.8747 - val_loss: 1.7991 - val_acc: 0.6470\n",
      "Epoch 10/15\n",
      "191550/191550 [==============================] - 2054s 11ms/step - loss: 0.4056 - acc: 0.8805 - val_loss: 1.8803 - val_acc: 0.6467\n",
      "Epoch 11/15\n",
      "191550/191550 [==============================] - 1839s 10ms/step - loss: 0.3859 - acc: 0.8866 - val_loss: 1.8365 - val_acc: 0.6546\n",
      "Epoch 12/15\n",
      "191550/191550 [==============================] - 2375s 12ms/step - loss: 0.3691 - acc: 0.8900 - val_loss: 1.9825 - val_acc: 0.6556\n",
      "Epoch 13/15\n",
      "191550/191550 [==============================] - 2159s 11ms/step - loss: 0.3535 - acc: 0.8961 - val_loss: 2.0082 - val_acc: 0.6469\n",
      "Epoch 14/15\n",
      "191550/191550 [==============================] - 1132s 6ms/step - loss: 0.3441 - acc: 0.8978 - val_loss: 1.9596 - val_acc: 0.6503\n",
      "Epoch 15/15\n",
      "191550/191550 [==============================] - 981s 5ms/step - loss: 0.3309 - acc: 0.9015 - val_loss: 2.0996 - val_acc: 0.6496\n"
     ]
    },
    {
     "data": {
      "text/plain": [
       "<keras.callbacks.History at 0x7f0dc4b0ea58>"
      ]
     },
     "execution_count": 13,
     "metadata": {},
     "output_type": "execute_result"
    }
   ],
   "source": [
    "# es = EarlyStopping(monitor='val_loss', mode='min', verbose=1)\n",
    "model.compile(loss='categorical_crossentropy',\n",
    "              optimizer='adam',\n",
    "              metrics=['accuracy'])\n",
    "\n",
    "print('Train...')\n",
    "model.fit(xt, y_train,\n",
    "          batch_size=64,\n",
    "          nb_epoch=15 ,validation_data=(xv, y_valid), verbose=1, shuffle=False) "
   ]
  },
  {
   "cell_type": "code",
   "execution_count": 123,
   "metadata": {},
   "outputs": [],
   "source": [
    "my_model = model.save(save_model('2dcnn_spec2'))"
   ]
  },
  {
   "cell_type": "code",
   "execution_count": null,
   "metadata": {},
   "outputs": [],
   "source": []
  }
 ],
 "metadata": {
  "kernelspec": {
   "display_name": "Python 3",
   "language": "python",
   "name": "python3"
  },
  "language_info": {
   "codemirror_mode": {
    "name": "ipython",
    "version": 3
   },
   "file_extension": ".py",
   "mimetype": "text/x-python",
   "name": "python",
   "nbconvert_exporter": "python",
   "pygments_lexer": "ipython3",
   "version": "3.7.0"
  }
 },
 "nbformat": 4,
 "nbformat_minor": 2
}
