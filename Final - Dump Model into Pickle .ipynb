{
 "cells": [
  {
   "cell_type": "code",
   "execution_count": 1,
   "metadata": {},
   "outputs": [],
   "source": [
    "import pickle\n",
    "import glob\n",
    "import numpy as np\n",
    "from collections import Counter\n",
    "import pandas as pd\n",
    "import librosa"
   ]
  },
  {
   "cell_type": "code",
   "execution_count": 2,
   "metadata": {},
   "outputs": [],
   "source": [
    "# this is how you save the model to pickle \n",
    "# from keras.models import load_model\n",
    "\n",
    "# new_model = load_model('Fri_May_17_22-52-09_2019_2dcnn_spec_.h5')\n",
    "# pkl_filename = \"aihua_model.pkl\"  \n",
    "# with open(pkl_filename, 'wb') as file:  \n",
    "#     pickle.dump(new_model, file)"
   ]
  },
  {
   "cell_type": "code",
   "execution_count": 2,
   "metadata": {},
   "outputs": [
    {
     "name": "stderr",
     "output_type": "stream",
     "text": [
      "Using TensorFlow backend.\n"
     ]
    },
    {
     "name": "stdout",
     "output_type": "stream",
     "text": [
      "WARNING:tensorflow:From /home/ec2-user/anaconda3/lib/python3.7/site-packages/tensorflow/python/framework/op_def_library.py:263: colocate_with (from tensorflow.python.framework.ops) is deprecated and will be removed in a future version.\n",
      "Instructions for updating:\n",
      "Colocations handled automatically by placer.\n",
      "WARNING:tensorflow:From /home/ec2-user/anaconda3/lib/python3.7/site-packages/keras/backend/tensorflow_backend.py:3445: calling dropout (from tensorflow.python.ops.nn_ops) with keep_prob is deprecated and will be removed in a future version.\n",
      "Instructions for updating:\n",
      "Please use `rate` instead of `keep_prob`. Rate should be set to `rate = 1 - keep_prob`.\n",
      "WARNING:tensorflow:From /home/ec2-user/anaconda3/lib/python3.7/site-packages/tensorflow/python/ops/math_ops.py:3066: to_int32 (from tensorflow.python.ops.math_ops) is deprecated and will be removed in a future version.\n",
      "Instructions for updating:\n",
      "Use tf.cast instead.\n",
      "<class 'keras.engine.sequential.Sequential'>\n"
     ]
    }
   ],
   "source": [
    "pkl_filename = \"aihua_model.pkl\"  \n",
    "with open(pkl_filename, 'rb') as file:  \n",
    "    pickle_model = pickle.load(file)\n",
    "print(type(pickle_model))"
   ]
  },
  {
   "cell_type": "code",
   "execution_count": 4,
   "metadata": {},
   "outputs": [],
   "source": [
    "def get_subarrays(row):\n",
    "    return [row[pos:pos + 3,] for pos in range(0, len(row),3)]"
   ]
  },
  {
   "cell_type": "code",
   "execution_count": 5,
   "metadata": {},
   "outputs": [],
   "source": [
    "labels = {'Saxophone': 0,\n",
    " 'Glockenspiel': 1,\n",
    " 'Cello': 2,\n",
    " 'Knock': 3,\n",
    " 'Gunshot_or_gunfire': 4,\n",
    " 'Hi-hat': 5,\n",
    " 'Laughter': 6,\n",
    " 'Flute': 7,\n",
    " 'Telephone': 8,\n",
    " 'Bark': 9,\n",
    " 'Scissors': 10,\n",
    " 'Gong': 11,\n",
    " 'Microwave_oven': 12,\n",
    " 'Shatter': 13,\n",
    " 'Harmonica': 14,\n",
    " 'Bass_drum': 15,\n",
    " 'Oboe': 16,\n",
    " 'Bus': 17,\n",
    " 'Tambourine': 18,\n",
    " 'Keys_jangling': 19,\n",
    " 'Electric_piano': 20,\n",
    " 'Clarinet': 21,\n",
    " 'Fireworks': 22,\n",
    " 'Meow': 23,\n",
    " 'Double_bass': 24,\n",
    " 'Cough': 25,\n",
    " 'Acoustic_guitar': 26,\n",
    " 'Violin_or_fiddle': 27,\n",
    " 'Snare_drum': 28,\n",
    " 'Squeak': 29,\n",
    " 'Finger_snapping': 30,\n",
    " 'Writing': 31,\n",
    " 'Trumpet': 32,\n",
    " 'Drawer_open_or_close': 33,\n",
    " 'Cowbell': 34,\n",
    " 'Tearing': 35,\n",
    " 'Fart': 36,\n",
    " 'Chime': 37,\n",
    " 'Burping_or_eructation': 38,\n",
    " 'Computer_keyboard': 39,\n",
    " 'Applause': 40}\n",
    "\n",
    "inverted_mapping = {v:k for k,v in labels.items()}"
   ]
  },
  {
   "cell_type": "code",
   "execution_count": 6,
   "metadata": {},
   "outputs": [],
   "source": [
    "def envelope(y, rate, threshold):\n",
    "    mask = []\n",
    "    y = pd.Series(y).apply(np.abs)\n",
    "    y_mean = y.rolling(window=int(rate/10),min_periods=1, center=True).mean()\n",
    "    for mean in y_mean:\n",
    "        if mean > threshold:\n",
    "            mask.append(True)\n",
    "        else:\n",
    "            mask.append(False)\n",
    "    return mask"
   ]
  },
  {
   "cell_type": "code",
   "execution_count": 7,
   "metadata": {},
   "outputs": [],
   "source": [
    "path = 'audio_test/'\n",
    "def get_predicted_label(row):\n",
    "    try:\n",
    "        sig, fs = librosa.load(path + row)\n",
    "        mask = envelope(sig,fs,0.0005)\n",
    "        new_sig = sig[mask]\n",
    "        S = librosa.feature.melspectrogram(y=new_sig, sr=fs)\n",
    "        np.save(\"new.npy\", S)\n",
    "        data = np.load(\"new.npy\").T\n",
    "        data_slice = get_subarrays(data)\n",
    "        xs = []\n",
    "        for array_set in data_slice:\n",
    "            if array_set.shape == (3,128):  # The network take input of shape (3, 128, 1)\n",
    "                xs.append(array_set)\n",
    "        features = np.asarray(xs)\n",
    "        xs_reshape = features.reshape(features.shape[0], 3, 128, 1)\n",
    "        pred_labels = [inverted_mapping.get(x) for x in pickle_model.predict_classes(xs_reshape)] # going to return a prediction for each of the 33\n",
    "        label = Counter(pred_labels).most_common(1)[0][0]\n",
    "        return label\n",
    "    except Exception as e:\n",
    "        return str(e)"
   ]
  },
  {
   "cell_type": "code",
   "execution_count": 8,
   "metadata": {},
   "outputs": [
    {
     "data": {
      "text/plain": [
       "'118f1763.wav'"
      ]
     },
     "execution_count": 8,
     "metadata": {},
     "output_type": "execute_result"
    }
   ],
   "source": [
    "test_files = glob.glob(path+'*.wav')\n",
    "test_file = test_files[76].split('/')[1]\n",
    "test_file"
   ]
  },
  {
   "cell_type": "code",
   "execution_count": 9,
   "metadata": {},
   "outputs": [
    {
     "data": {
      "text/plain": [
       "'Clarinet'"
      ]
     },
     "execution_count": 9,
     "metadata": {},
     "output_type": "execute_result"
    }
   ],
   "source": [
    "get_predicted_label(test_file)"
   ]
  },
  {
   "cell_type": "code",
   "execution_count": 10,
   "metadata": {},
   "outputs": [
    {
     "name": "stdout",
     "output_type": "stream",
     "text": [
      "9400\n"
     ]
    },
    {
     "data": {
      "text/html": [
       "<div>\n",
       "<style scoped>\n",
       "    .dataframe tbody tr th:only-of-type {\n",
       "        vertical-align: middle;\n",
       "    }\n",
       "\n",
       "    .dataframe tbody tr th {\n",
       "        vertical-align: top;\n",
       "    }\n",
       "\n",
       "    .dataframe thead th {\n",
       "        text-align: right;\n",
       "    }\n",
       "</style>\n",
       "<table border=\"1\" class=\"dataframe\">\n",
       "  <thead>\n",
       "    <tr style=\"text-align: right;\">\n",
       "      <th></th>\n",
       "      <th>fileName</th>\n",
       "    </tr>\n",
       "  </thead>\n",
       "  <tbody>\n",
       "    <tr>\n",
       "      <th>0</th>\n",
       "      <td>8319139c.wav</td>\n",
       "    </tr>\n",
       "    <tr>\n",
       "      <th>1</th>\n",
       "      <td>003995fa.wav</td>\n",
       "    </tr>\n",
       "    <tr>\n",
       "      <th>2</th>\n",
       "      <td>9c80c2dc.wav</td>\n",
       "    </tr>\n",
       "    <tr>\n",
       "      <th>3</th>\n",
       "      <td>93dbba2e.wav</td>\n",
       "    </tr>\n",
       "    <tr>\n",
       "      <th>4</th>\n",
       "      <td>45fbe67a.wav</td>\n",
       "    </tr>\n",
       "  </tbody>\n",
       "</table>\n",
       "</div>"
      ],
      "text/plain": [
       "       fileName\n",
       "0  8319139c.wav\n",
       "1  003995fa.wav\n",
       "2  9c80c2dc.wav\n",
       "3  93dbba2e.wav\n",
       "4  45fbe67a.wav"
      ]
     },
     "execution_count": 10,
     "metadata": {},
     "output_type": "execute_result"
    }
   ],
   "source": [
    "test_audios = glob.glob('audio_test/' +'*.wav')\n",
    "len(test_audios)\n",
    "file_names = [x.split(\"/\")[1] for x in test_audios]\n",
    "print(len(file_names))\n",
    "df = pd.DataFrame(file_names)\n",
    "df.rename(columns={0: \"fileName\"},inplace=True)\n",
    "df.head()"
   ]
  },
  {
   "cell_type": "code",
   "execution_count": 13,
   "metadata": {},
   "outputs": [],
   "source": [
    "import multiprocessing as mp\n",
    "from multiprocessing import Pool"
   ]
  },
  {
   "cell_type": "code",
   "execution_count": 14,
   "metadata": {},
   "outputs": [],
   "source": [
    "num_partitions = 10\n",
    "num_cores = 4 \n",
    "\n",
    "def parallelize_dataframe(df, func):\n",
    "    df_split = np.array_split(df, num_partitions)\n",
    "    pool = Pool(num_cores)\n",
    "    df = pd.concat(pool.map(func, df_split))\n",
    "    pool.close()\n",
    "    pool.join()\n",
    "    return df"
   ]
  },
  {
   "cell_type": "code",
   "execution_count": null,
   "metadata": {},
   "outputs": [],
   "source": [
    "def multiply_columns(data):\n",
    "    data['label'] = data['fileName'].apply(get_predicted_label)\n",
    "    return data\n",
    "    \n",
    "dfs = parallelize_dataframe(df, multiply_columns)"
   ]
  },
  {
   "cell_type": "code",
   "execution_count": null,
   "metadata": {},
   "outputs": [],
   "source": [
    "# cores = cpu_count() "
   ]
  }
 ],
 "metadata": {
  "kernelspec": {
   "display_name": "Python 3",
   "language": "python",
   "name": "python3"
  },
  "language_info": {
   "codemirror_mode": {
    "name": "ipython",
    "version": 3
   },
   "file_extension": ".py",
   "mimetype": "text/x-python",
   "name": "python",
   "nbconvert_exporter": "python",
   "pygments_lexer": "ipython3",
   "version": "3.7.3"
  }
 },
 "nbformat": 4,
 "nbformat_minor": 2
}
